{
 "cells": [
  {
   "cell_type": "code",
   "execution_count": 22,
   "id": "0363755b",
   "metadata": {},
   "outputs": [],
   "source": [
    "from Bio import SeqIO\n",
    "from Bio import pairwise2\n",
    "from Bio.Seq import Seq\n",
    "from matplotlib import pyplot as plt\n",
    "\n",
    "def load_leishmania_sequences(file):\n",
    "    # Load Leishmania DNA sequences from a file\n",
    "    leishmania_sequences = []\n",
    "    for record in SeqIO.parse(file, \"fasta\"):\n",
    "        leishmania_sequences.append(str(record.seq))\n",
    "    return leishmania_sequences\n",
    "\n",
    "\n",
    "def identify_leishmania_disease(sequence, leishmania_sequences):\n",
    "    input_seq = SeqIO.SeqRecord(Seq(sequence))\n",
    "    for leishmania_seq in leishmania_sequences:\n",
    "        leishmania_record = SeqIO.SeqRecord(Seq(leishmania_seq))\n",
    "        alignment = pairwise2.align.globalxx(input_seq.seq, leishmania_record.seq, one_alignment_only=True)\n",
    "        threshold_score = len(leishmania_seq) - 2\n",
    "        for alignment1 in alignment:\n",
    "            alignment_score = alignment1.score\n",
    "            if alignment_score >= threshold_score:\n",
    "                return True\n",
    "    return False\n",
    "\n",
    "def count_nucleotides(sequence):\n",
    "    # Count the number of each nucleotide in the sequence\n",
    "    counts = {\n",
    "        \"A\": 0,\n",
    "        \"C\": 0,\n",
    "        \"G\": 0,\n",
    "        \"T\": 0,\n",
    "    }\n",
    "\n",
    "    for nucleotide in sequence:\n",
    "        if nucleotide in counts:\n",
    "            counts[nucleotide] += 1\n",
    "\n",
    "    return counts\n",
    "\n",
    "def calculate_gc_content(sequence):\n",
    "    # Calculate the GC content of the sequence\n",
    "    total_count = len(sequence)\n",
    "    gc_count = sequence.count('G') + sequence.count('C')\n",
    "    gc_content = (gc_count / total_count) * 100\n",
    "    return gc_content\n",
    "\n",
    "\n",
    "def find_motifs(sequence, motif):\n",
    "    # Find occurrences of a motif in the sequence\n",
    "    motif_positions = []\n",
    "    start = 0\n",
    "    while start < len(sequence):\n",
    "        pos = sequence.find(motif, start)\n",
    "        if pos == -1:\n",
    "            break\n",
    "        motif_positions.append(pos)\n",
    "        start = pos + 1\n",
    "    return motif_positions\n",
    "\n",
    "\n",
    "def translate_sequence(sequence):\n",
    "    # Translate DNA sequence to protein sequence\n",
    "    coding_dna = Seq(sequence)\n",
    "    protein_seq = coding_dna.translate()\n",
    "    return protein_seq"
   ]
  },
  {
   "cell_type": "code",
   "execution_count": 2,
   "id": "c0cd8226",
   "metadata": {},
   "outputs": [
    {
     "name": "stdout",
     "output_type": "stream",
     "text": [
      "['AGAGCCTAGGGTCTCTCTGCATTCTCT', 'GACAGTAATTCTGAAGCTGCCATGTCC', 'AGAGACCTACCTGAGTGAGAAGATCCC', 'GATCAGAAAGCTGCTACACCTCTGGCA', 'ACCAACATGGAGAAACCCCGTCTCTAC', 'AACTCTGGGCCACCAGAAAGAGGCAGG', 'GCCATGCTCTGGAACAGGGTGGGGGGA', 'GATAGATGGAAAGACTGAGGCTCAAAC', 'CTCTAGGGGATGGCCAAGGCCAGCTGC', 'GTATTTTTAGTAGAGCTGGGGTTTCAC']\n",
      "['ACGTGCTAGCTAGCTAGCTAGCTAGCTAGCTAGCTAGCTA', 'TCGATCGATCGATCGATCGATCGATCGATCGATCGATCGAT', 'GCTAGCTAGCTAGCTAGCTAGCTAGCTAGCTAGCTAGCTAG', 'ATCGATCGATCGATCGATCGATCGATCGATCGATCGATCGA', 'CTAGCTAGCTAGCTAGCTAGCTAGCTAGCTAGCTAGCTAGC', 'CGATCGATCGATCGATCGATCGATCGATCGATCGATCGATC', 'AGAGCCTAGGGTCTCTCTGCATTCTCTGTTGGGCATCTGTC', 'GATCGATCGATCGATCGATCGATCGATCGATCGATCGATCG', 'CTAGCTAGCTAGCTAGCTAGCTAGCTAGCTAGCTAGCTAGC', 'CGATCGATCGATCGATCGATCGATCGATCGATCGATCGATC']\n"
     ]
    }
   ],
   "source": [
    "input_sequence = load_leishmania_sequences(\"input_human.fasta\")\n",
    "motif_to_find = \"AGGC\"  \n",
    "leishmania_sequences = load_leishmania_sequences(\"leishmanaia.fasta\")\n",
    "print(leishmania_sequences)\n",
    "print(input_sequence)"
   ]
  },
  {
   "cell_type": "code",
   "execution_count": 3,
   "id": "b4b6dc36",
   "metadata": {},
   "outputs": [
    {
     "name": "stdout",
     "output_type": "stream",
     "text": [
      "Nucleotide count of 0: {'A': 10, 'C': 10, 'G': 10, 'T': 10}\n",
      "Nucleotide count of 1: {'A': 10, 'C': 10, 'G': 10, 'T': 11}\n",
      "Nucleotide count of 2: {'A': 10, 'C': 10, 'G': 11, 'T': 10}\n",
      "Nucleotide count of 3: {'A': 11, 'C': 10, 'G': 10, 'T': 10}\n",
      "Nucleotide count of 4: {'A': 10, 'C': 11, 'G': 10, 'T': 10}\n",
      "Nucleotide count of 5: {'A': 10, 'C': 11, 'G': 10, 'T': 10}\n",
      "Nucleotide count of 6: {'A': 5, 'C': 11, 'G': 11, 'T': 14}\n",
      "Nucleotide count of 7: {'A': 10, 'C': 10, 'G': 11, 'T': 10}\n",
      "Nucleotide count of 8: {'A': 10, 'C': 11, 'G': 10, 'T': 10}\n",
      "Nucleotide count of 9: {'A': 10, 'C': 11, 'G': 10, 'T': 10}\n"
     ]
    }
   ],
   "source": [
    "for i in range(len(input_sequence)):\n",
    "    nucleotide_counts = count_nucleotides(input_sequence[i])\n",
    "    print(\"Nucleotide count of {}:\".format(i), nucleotide_counts)"
   ]
  },
  {
   "cell_type": "code",
   "execution_count": 4,
   "id": "fbd35c38",
   "metadata": {},
   "outputs": [
    {
     "name": "stdout",
     "output_type": "stream",
     "text": [
      "GC content: 50.00%\n",
      "GC content: 48.78%\n",
      "GC content: 51.22%\n",
      "GC content: 48.78%\n",
      "GC content: 51.22%\n",
      "GC content: 51.22%\n",
      "GC content: 53.66%\n",
      "GC content: 51.22%\n",
      "GC content: 51.22%\n",
      "GC content: 51.22%\n"
     ]
    }
   ],
   "source": [
    "for i in range(len(input_sequence)):\n",
    "    gc = []\n",
    "    gc_content = calculate_gc_content(input_sequence[i])\n",
    "    gc.append(gc_content)\n",
    "    print(\"GC content: {:.2f}%\".format(gc_content))\n"
   ]
  },
  {
   "cell_type": "code",
   "execution_count": 5,
   "id": "6b495471",
   "metadata": {},
   "outputs": [
    {
     "data": {
      "image/png": "[encoded data removed]",
      "text/plain": [
       "<Figure size 432x288 with 1 Axes>"
      ]
     },
     "metadata": {
      "needs_background": "light"
     },
     "output_type": "display_data"
    }
   ],
   "source": [
    "# Assuming you have a list of GC contents for multiple sequences\n",
    "plt.figure(figsize=(6, 4))\n",
    "name = [1,2,3,4,5,6,7,8,9,10]\n",
    "plt.bar(name,gc,color = 'r')\n",
    "plt.xlabel(\"GC Content\")\n",
    "plt.ylabel(\"Frequency\")\n",
    "plt.title(\"GC Content Distribution\")\n",
    "plt.show()\n"
   ]
  },
  {
   "cell_type": "code",
   "execution_count": null,
   "id": "c2b95153",
   "metadata": {},
   "outputs": [],
   "source": []
  },
  {
   "cell_type": "code",
   "execution_count": 7,
   "id": "0f05e69e",
   "metadata": {},
   "outputs": [
    {
     "name": "stdout",
     "output_type": "stream",
     "text": [
      "Protein sequence: TC*LAS*LAS*LA\n",
      "Protein sequence: SIDRSIDRSIDRS\n",
      "Protein sequence: AS*LAS*LAS*LA\n",
      "Protein sequence: IDRSIDRSIDRSI\n",
      "Protein sequence: LAS*LAS*LAS*L\n",
      "Protein sequence: RSIDRSIDRSIDR\n",
      "Protein sequence: RA*GLSAFSVGHL\n",
      "Protein sequence: DRSIDRSIDRSID\n",
      "Protein sequence: LAS*LAS*LAS*L\n",
      "Protein sequence: RSIDRSIDRSIDR\n"
     ]
    }
   ],
   "source": [
    "for i in range(len(input_sequence)):\n",
    "    protein_sequence = translate_sequence(input_sequence[i])\n",
    "    print(\"Protein sequence:\", protein_sequence)"
   ]
  },
  {
   "cell_type": "code",
   "execution_count": 8,
   "id": "75bfd782",
   "metadata": {},
   "outputs": [
    {
     "name": "stdout",
     "output_type": "stream",
     "text": [
      "No evidence of Leishmania disease.\n",
      "No evidence of Leishmania disease.\n",
      "No evidence of Leishmania disease.\n",
      "No evidence of Leishmania disease.\n",
      "No evidence of Leishmania disease.\n",
      "No evidence of Leishmania disease.\n",
      "Leishmania disease detected!\n",
      "No evidence of Leishmania disease.\n",
      "No evidence of Leishmania disease.\n",
      "No evidence of Leishmania disease.\n"
     ]
    }
   ],
   "source": [
    "for i in range(len(input_sequence)):\n",
    "    is_leishmania = identify_leishmania_disease(input_sequence[i], leishmania_sequences)\n",
    "\n",
    "    if is_leishmania:\n",
    "        print(\"Leishmania disease detected!\")\n",
    "    else:\n",
    "        print(\"No evidence of Leishmania disease.\")"
   ]
  },
  {
   "cell_type": "code",
   "execution_count": 25,
   "id": "457e6ad6",
   "metadata": {},
   "outputs": [],
   "source": [
    "import pandas as pd\n",
    "from sklearn.model_selection import train_test_split\n",
    "from sklearn.preprocessing import StandardScaler\n",
    "from sklearn.neighbors import KNeighborsClassifier\n",
    "from sklearn.metrics import f1_score,precision_score,classification_report\n",
    "from sklearn.metrics import accuracy_score,confusion_matrix,recall_score\n",
    "import matplotlib.pyplot as plt\n",
    "from sklearn.svm import SVC\n",
    "from sklearn import metrics"
   ]
  },
  {
   "cell_type": "code",
   "execution_count": 26,
   "id": "f55366a1",
   "metadata": {},
   "outputs": [],
   "source": [
    "df = pd.read_csv(\"Lesihmania.csv\")"
   ]
  },
  {
   "cell_type": "code",
   "execution_count": 27,
   "id": "293c753d",
   "metadata": {},
   "outputs": [
    {
     "data": {
      "text/html": [
       "<div>\n",
       "<style scoped>\n",
       "    .dataframe tbody tr th:only-of-type {\n",
       "        vertical-align: middle;\n",
       "    }\n",
       "\n",
       "    .dataframe tbody tr th {\n",
       "        vertical-align: top;\n",
       "    }\n",
       "\n",
       "    .dataframe thead th {\n",
       "        text-align: right;\n",
       "    }\n",
       "</style>\n",
       "<table border=\"1\" class=\"dataframe\">\n",
       "  <thead>\n",
       "    <tr style=\"text-align: right;\">\n",
       "      <th></th>\n",
       "      <th>age</th>\n",
       "      <th>fever</th>\n",
       "      <th>creatinine_phosphokinase</th>\n",
       "      <th>weight_loss</th>\n",
       "      <th>ejection_fraction</th>\n",
       "      <th>Liver_swelling</th>\n",
       "      <th>platelets</th>\n",
       "      <th>serum_creatinine</th>\n",
       "      <th>serum_sodium</th>\n",
       "      <th>Fatigue</th>\n",
       "      <th>Abnormal_blood_tests</th>\n",
       "      <th>time</th>\n",
       "      <th>Leishmania_predict</th>\n",
       "    </tr>\n",
       "  </thead>\n",
       "  <tbody>\n",
       "    <tr>\n",
       "      <th>0</th>\n",
       "      <td>75.0</td>\n",
       "      <td>0</td>\n",
       "      <td>582</td>\n",
       "      <td>0</td>\n",
       "      <td>20</td>\n",
       "      <td>1</td>\n",
       "      <td>265000.00</td>\n",
       "      <td>1.9</td>\n",
       "      <td>130</td>\n",
       "      <td>1</td>\n",
       "      <td>0</td>\n",
       "      <td>4</td>\n",
       "      <td>1</td>\n",
       "    </tr>\n",
       "    <tr>\n",
       "      <th>1</th>\n",
       "      <td>55.0</td>\n",
       "      <td>0</td>\n",
       "      <td>7861</td>\n",
       "      <td>0</td>\n",
       "      <td>38</td>\n",
       "      <td>0</td>\n",
       "      <td>263358.03</td>\n",
       "      <td>1.1</td>\n",
       "      <td>136</td>\n",
       "      <td>1</td>\n",
       "      <td>0</td>\n",
       "      <td>6</td>\n",
       "      <td>1</td>\n",
       "    </tr>\n",
       "    <tr>\n",
       "      <th>2</th>\n",
       "      <td>65.0</td>\n",
       "      <td>0</td>\n",
       "      <td>146</td>\n",
       "      <td>0</td>\n",
       "      <td>20</td>\n",
       "      <td>0</td>\n",
       "      <td>162000.00</td>\n",
       "      <td>1.3</td>\n",
       "      <td>129</td>\n",
       "      <td>1</td>\n",
       "      <td>1</td>\n",
       "      <td>7</td>\n",
       "      <td>1</td>\n",
       "    </tr>\n",
       "    <tr>\n",
       "      <th>3</th>\n",
       "      <td>50.0</td>\n",
       "      <td>1</td>\n",
       "      <td>111</td>\n",
       "      <td>0</td>\n",
       "      <td>20</td>\n",
       "      <td>0</td>\n",
       "      <td>210000.00</td>\n",
       "      <td>1.9</td>\n",
       "      <td>137</td>\n",
       "      <td>1</td>\n",
       "      <td>0</td>\n",
       "      <td>7</td>\n",
       "      <td>1</td>\n",
       "    </tr>\n",
       "    <tr>\n",
       "      <th>4</th>\n",
       "      <td>65.0</td>\n",
       "      <td>1</td>\n",
       "      <td>160</td>\n",
       "      <td>1</td>\n",
       "      <td>20</td>\n",
       "      <td>0</td>\n",
       "      <td>327000.00</td>\n",
       "      <td>2.7</td>\n",
       "      <td>116</td>\n",
       "      <td>0</td>\n",
       "      <td>0</td>\n",
       "      <td>8</td>\n",
       "      <td>1</td>\n",
       "    </tr>\n",
       "    <tr>\n",
       "      <th>5</th>\n",
       "      <td>90.0</td>\n",
       "      <td>1</td>\n",
       "      <td>47</td>\n",
       "      <td>0</td>\n",
       "      <td>40</td>\n",
       "      <td>1</td>\n",
       "      <td>204000.00</td>\n",
       "      <td>2.1</td>\n",
       "      <td>132</td>\n",
       "      <td>1</td>\n",
       "      <td>1</td>\n",
       "      <td>8</td>\n",
       "      <td>1</td>\n",
       "    </tr>\n",
       "    <tr>\n",
       "      <th>6</th>\n",
       "      <td>75.0</td>\n",
       "      <td>1</td>\n",
       "      <td>246</td>\n",
       "      <td>0</td>\n",
       "      <td>15</td>\n",
       "      <td>0</td>\n",
       "      <td>127000.00</td>\n",
       "      <td>1.2</td>\n",
       "      <td>137</td>\n",
       "      <td>1</td>\n",
       "      <td>0</td>\n",
       "      <td>10</td>\n",
       "      <td>1</td>\n",
       "    </tr>\n",
       "    <tr>\n",
       "      <th>7</th>\n",
       "      <td>60.0</td>\n",
       "      <td>1</td>\n",
       "      <td>315</td>\n",
       "      <td>1</td>\n",
       "      <td>60</td>\n",
       "      <td>0</td>\n",
       "      <td>454000.00</td>\n",
       "      <td>1.1</td>\n",
       "      <td>131</td>\n",
       "      <td>1</td>\n",
       "      <td>1</td>\n",
       "      <td>10</td>\n",
       "      <td>1</td>\n",
       "    </tr>\n",
       "    <tr>\n",
       "      <th>8</th>\n",
       "      <td>65.0</td>\n",
       "      <td>0</td>\n",
       "      <td>157</td>\n",
       "      <td>0</td>\n",
       "      <td>65</td>\n",
       "      <td>0</td>\n",
       "      <td>263358.03</td>\n",
       "      <td>1.5</td>\n",
       "      <td>138</td>\n",
       "      <td>0</td>\n",
       "      <td>0</td>\n",
       "      <td>10</td>\n",
       "      <td>1</td>\n",
       "    </tr>\n",
       "    <tr>\n",
       "      <th>9</th>\n",
       "      <td>80.0</td>\n",
       "      <td>1</td>\n",
       "      <td>123</td>\n",
       "      <td>0</td>\n",
       "      <td>35</td>\n",
       "      <td>1</td>\n",
       "      <td>388000.00</td>\n",
       "      <td>9.4</td>\n",
       "      <td>133</td>\n",
       "      <td>1</td>\n",
       "      <td>1</td>\n",
       "      <td>10</td>\n",
       "      <td>1</td>\n",
       "    </tr>\n",
       "  </tbody>\n",
       "</table>\n",
       "</div>"
      ],
      "text/plain": [
       "    age  fever  creatinine_phosphokinase  weight_loss  ejection_fraction  \\\n",
       "0  75.0      0                       582            0                 20   \n",
       "1  55.0      0                      7861            0                 38   \n",
       "2  65.0      0                       146            0                 20   \n",
       "3  50.0      1                       111            0                 20   \n",
       "4  65.0      1                       160            1                 20   \n",
       "5  90.0      1                        47            0                 40   \n",
       "6  75.0      1                       246            0                 15   \n",
       "7  60.0      1                       315            1                 60   \n",
       "8  65.0      0                       157            0                 65   \n",
       "9  80.0      1                       123            0                 35   \n",
       "\n",
       "   Liver_swelling  platelets  serum_creatinine  serum_sodium  Fatigue  \\\n",
       "0               1  265000.00               1.9           130        1   \n",
       "1               0  263358.03               1.1           136        1   \n",
       "2               0  162000.00               1.3           129        1   \n",
       "3               0  210000.00               1.9           137        1   \n",
       "4               0  327000.00               2.7           116        0   \n",
       "5               1  204000.00               2.1           132        1   \n",
       "6               0  127000.00               1.2           137        1   \n",
       "7               0  454000.00               1.1           131        1   \n",
       "8               0  263358.03               1.5           138        0   \n",
       "9               1  388000.00               9.4           133        1   \n",
       "\n",
       "   Abnormal_blood_tests  time  Leishmania_predict  \n",
       "0                     0     4                   1  \n",
       "1                     0     6                   1  \n",
       "2                     1     7                   1  \n",
       "3                     0     7                   1  \n",
       "4                     0     8                   1  \n",
       "5                     1     8                   1  \n",
       "6                     0    10                   1  \n",
       "7                     1    10                   1  \n",
       "8                     0    10                   1  \n",
       "9                     1    10                   1  "
      ]
     },
     "execution_count": 27,
     "metadata": {},
     "output_type": "execute_result"
    }
   ],
   "source": [
    "df.head(10)\n"
   ]
  },
  {
   "cell_type": "code",
   "execution_count": 28,
   "id": "81e08f8f",
   "metadata": {},
   "outputs": [
    {
     "name": "stdout",
     "output_type": "stream",
     "text": [
      "shape : (299, 13)\n",
      "<class 'pandas.core.frame.DataFrame'>\n",
      "RangeIndex: 299 entries, 0 to 298\n",
      "Data columns (total 13 columns):\n",
      " #   Column                    Non-Null Count  Dtype  \n",
      "---  ------                    --------------  -----  \n",
      " 0   age                       299 non-null    float64\n",
      " 1   fever                     299 non-null    int64  \n",
      " 2   creatinine_phosphokinase  299 non-null    int64  \n",
      " 3   weight_loss               299 non-null    int64  \n",
      " 4   ejection_fraction         299 non-null    int64  \n",
      " 5   Liver_swelling            299 non-null    int64  \n",
      " 6   platelets                 299 non-null    float64\n",
      " 7   serum_creatinine          299 non-null    float64\n",
      " 8   serum_sodium              299 non-null    int64  \n",
      " 9   Fatigue                   299 non-null    int64  \n",
      " 10  Abnormal_blood_tests      299 non-null    int64  \n",
      " 11  time                      299 non-null    int64  \n",
      " 12  Leishmania_predict        299 non-null    int64  \n",
      "dtypes: float64(3), int64(10)\n",
      "memory usage: 30.5 KB\n"
     ]
    }
   ],
   "source": [
    "print(\"shape :\",df.shape)\n",
    "df.info()"
   ]
  },
  {
   "cell_type": "code",
   "execution_count": 29,
   "id": "62280689",
   "metadata": {},
   "outputs": [
    {
     "data": {
      "text/html": [
       "<div>\n",
       "<style scoped>\n",
       "    .dataframe tbody tr th:only-of-type {\n",
       "        vertical-align: middle;\n",
       "    }\n",
       "\n",
       "    .dataframe tbody tr th {\n",
       "        vertical-align: top;\n",
       "    }\n",
       "\n",
       "    .dataframe thead th {\n",
       "        text-align: right;\n",
       "    }\n",
       "</style>\n",
       "<table border=\"1\" class=\"dataframe\">\n",
       "  <thead>\n",
       "    <tr style=\"text-align: right;\">\n",
       "      <th></th>\n",
       "      <th>age</th>\n",
       "      <th>fever</th>\n",
       "      <th>creatinine_phosphokinase</th>\n",
       "      <th>weight_loss</th>\n",
       "      <th>ejection_fraction</th>\n",
       "      <th>Liver_swelling</th>\n",
       "      <th>platelets</th>\n",
       "      <th>serum_creatinine</th>\n",
       "      <th>serum_sodium</th>\n",
       "      <th>Fatigue</th>\n",
       "      <th>Abnormal_blood_tests</th>\n",
       "      <th>time</th>\n",
       "      <th>Leishmania_predict</th>\n",
       "    </tr>\n",
       "  </thead>\n",
       "  <tbody>\n",
       "    <tr>\n",
       "      <th>age</th>\n",
       "      <td>1.000000</td>\n",
       "      <td>0.088006</td>\n",
       "      <td>-0.081584</td>\n",
       "      <td>-0.101012</td>\n",
       "      <td>0.060098</td>\n",
       "      <td>0.093289</td>\n",
       "      <td>-0.052354</td>\n",
       "      <td>0.159187</td>\n",
       "      <td>-0.045966</td>\n",
       "      <td>0.065430</td>\n",
       "      <td>0.018668</td>\n",
       "      <td>-0.224068</td>\n",
       "      <td>0.253729</td>\n",
       "    </tr>\n",
       "    <tr>\n",
       "      <th>fever</th>\n",
       "      <td>0.088006</td>\n",
       "      <td>1.000000</td>\n",
       "      <td>-0.190741</td>\n",
       "      <td>-0.012729</td>\n",
       "      <td>0.031557</td>\n",
       "      <td>0.038182</td>\n",
       "      <td>-0.043786</td>\n",
       "      <td>0.052174</td>\n",
       "      <td>0.041882</td>\n",
       "      <td>-0.094769</td>\n",
       "      <td>-0.107290</td>\n",
       "      <td>-0.141414</td>\n",
       "      <td>0.066270</td>\n",
       "    </tr>\n",
       "    <tr>\n",
       "      <th>creatinine_phosphokinase</th>\n",
       "      <td>-0.081584</td>\n",
       "      <td>-0.190741</td>\n",
       "      <td>1.000000</td>\n",
       "      <td>-0.009639</td>\n",
       "      <td>-0.044080</td>\n",
       "      <td>-0.070590</td>\n",
       "      <td>0.024463</td>\n",
       "      <td>-0.016408</td>\n",
       "      <td>0.059550</td>\n",
       "      <td>0.079791</td>\n",
       "      <td>0.002421</td>\n",
       "      <td>-0.009346</td>\n",
       "      <td>0.062728</td>\n",
       "    </tr>\n",
       "    <tr>\n",
       "      <th>weight_loss</th>\n",
       "      <td>-0.101012</td>\n",
       "      <td>-0.012729</td>\n",
       "      <td>-0.009639</td>\n",
       "      <td>1.000000</td>\n",
       "      <td>-0.004850</td>\n",
       "      <td>-0.012732</td>\n",
       "      <td>0.092193</td>\n",
       "      <td>-0.046975</td>\n",
       "      <td>-0.089551</td>\n",
       "      <td>-0.157730</td>\n",
       "      <td>-0.147173</td>\n",
       "      <td>0.033726</td>\n",
       "      <td>-0.001943</td>\n",
       "    </tr>\n",
       "    <tr>\n",
       "      <th>ejection_fraction</th>\n",
       "      <td>0.060098</td>\n",
       "      <td>0.031557</td>\n",
       "      <td>-0.044080</td>\n",
       "      <td>-0.004850</td>\n",
       "      <td>1.000000</td>\n",
       "      <td>0.024445</td>\n",
       "      <td>0.072177</td>\n",
       "      <td>-0.011302</td>\n",
       "      <td>0.175902</td>\n",
       "      <td>-0.148386</td>\n",
       "      <td>-0.067315</td>\n",
       "      <td>0.041729</td>\n",
       "      <td>-0.268603</td>\n",
       "    </tr>\n",
       "    <tr>\n",
       "      <th>Liver_swelling</th>\n",
       "      <td>0.093289</td>\n",
       "      <td>0.038182</td>\n",
       "      <td>-0.070590</td>\n",
       "      <td>-0.012732</td>\n",
       "      <td>0.024445</td>\n",
       "      <td>1.000000</td>\n",
       "      <td>0.049963</td>\n",
       "      <td>-0.004935</td>\n",
       "      <td>0.037109</td>\n",
       "      <td>-0.104615</td>\n",
       "      <td>-0.055711</td>\n",
       "      <td>-0.196439</td>\n",
       "      <td>0.079351</td>\n",
       "    </tr>\n",
       "    <tr>\n",
       "      <th>platelets</th>\n",
       "      <td>-0.052354</td>\n",
       "      <td>-0.043786</td>\n",
       "      <td>0.024463</td>\n",
       "      <td>0.092193</td>\n",
       "      <td>0.072177</td>\n",
       "      <td>0.049963</td>\n",
       "      <td>1.000000</td>\n",
       "      <td>-0.041198</td>\n",
       "      <td>0.062125</td>\n",
       "      <td>-0.125120</td>\n",
       "      <td>0.028234</td>\n",
       "      <td>0.010514</td>\n",
       "      <td>-0.049139</td>\n",
       "    </tr>\n",
       "    <tr>\n",
       "      <th>serum_creatinine</th>\n",
       "      <td>0.159187</td>\n",
       "      <td>0.052174</td>\n",
       "      <td>-0.016408</td>\n",
       "      <td>-0.046975</td>\n",
       "      <td>-0.011302</td>\n",
       "      <td>-0.004935</td>\n",
       "      <td>-0.041198</td>\n",
       "      <td>1.000000</td>\n",
       "      <td>-0.189095</td>\n",
       "      <td>0.006970</td>\n",
       "      <td>-0.027414</td>\n",
       "      <td>-0.149315</td>\n",
       "      <td>0.294278</td>\n",
       "    </tr>\n",
       "    <tr>\n",
       "      <th>serum_sodium</th>\n",
       "      <td>-0.045966</td>\n",
       "      <td>0.041882</td>\n",
       "      <td>0.059550</td>\n",
       "      <td>-0.089551</td>\n",
       "      <td>0.175902</td>\n",
       "      <td>0.037109</td>\n",
       "      <td>0.062125</td>\n",
       "      <td>-0.189095</td>\n",
       "      <td>1.000000</td>\n",
       "      <td>-0.027566</td>\n",
       "      <td>0.004813</td>\n",
       "      <td>0.087640</td>\n",
       "      <td>-0.195204</td>\n",
       "    </tr>\n",
       "    <tr>\n",
       "      <th>Fatigue</th>\n",
       "      <td>0.065430</td>\n",
       "      <td>-0.094769</td>\n",
       "      <td>0.079791</td>\n",
       "      <td>-0.157730</td>\n",
       "      <td>-0.148386</td>\n",
       "      <td>-0.104615</td>\n",
       "      <td>-0.125120</td>\n",
       "      <td>0.006970</td>\n",
       "      <td>-0.027566</td>\n",
       "      <td>1.000000</td>\n",
       "      <td>0.445892</td>\n",
       "      <td>-0.015608</td>\n",
       "      <td>-0.004316</td>\n",
       "    </tr>\n",
       "    <tr>\n",
       "      <th>Abnormal_blood_tests</th>\n",
       "      <td>0.018668</td>\n",
       "      <td>-0.107290</td>\n",
       "      <td>0.002421</td>\n",
       "      <td>-0.147173</td>\n",
       "      <td>-0.067315</td>\n",
       "      <td>-0.055711</td>\n",
       "      <td>0.028234</td>\n",
       "      <td>-0.027414</td>\n",
       "      <td>0.004813</td>\n",
       "      <td>0.445892</td>\n",
       "      <td>1.000000</td>\n",
       "      <td>-0.022839</td>\n",
       "      <td>-0.012623</td>\n",
       "    </tr>\n",
       "    <tr>\n",
       "      <th>time</th>\n",
       "      <td>-0.224068</td>\n",
       "      <td>-0.141414</td>\n",
       "      <td>-0.009346</td>\n",
       "      <td>0.033726</td>\n",
       "      <td>0.041729</td>\n",
       "      <td>-0.196439</td>\n",
       "      <td>0.010514</td>\n",
       "      <td>-0.149315</td>\n",
       "      <td>0.087640</td>\n",
       "      <td>-0.015608</td>\n",
       "      <td>-0.022839</td>\n",
       "      <td>1.000000</td>\n",
       "      <td>-0.526964</td>\n",
       "    </tr>\n",
       "    <tr>\n",
       "      <th>Leishmania_predict</th>\n",
       "      <td>0.253729</td>\n",
       "      <td>0.066270</td>\n",
       "      <td>0.062728</td>\n",
       "      <td>-0.001943</td>\n",
       "      <td>-0.268603</td>\n",
       "      <td>0.079351</td>\n",
       "      <td>-0.049139</td>\n",
       "      <td>0.294278</td>\n",
       "      <td>-0.195204</td>\n",
       "      <td>-0.004316</td>\n",
       "      <td>-0.012623</td>\n",
       "      <td>-0.526964</td>\n",
       "      <td>1.000000</td>\n",
       "    </tr>\n",
       "  </tbody>\n",
       "</table>\n",
       "</div>"
      ],
      "text/plain": [
       "                               age     fever  creatinine_phosphokinase  \\\n",
       "age                       1.000000  0.088006                 -0.081584   \n",
       "fever                     0.088006  1.000000                 -0.190741   \n",
       "creatinine_phosphokinase -0.081584 -0.190741                  1.000000   \n",
       "weight_loss              -0.101012 -0.012729                 -0.009639   \n",
       "ejection_fraction         0.060098  0.031557                 -0.044080   \n",
       "Liver_swelling            0.093289  0.038182                 -0.070590   \n",
       "platelets                -0.052354 -0.043786                  0.024463   \n",
       "serum_creatinine          0.159187  0.052174                 -0.016408   \n",
       "serum_sodium             -0.045966  0.041882                  0.059550   \n",
       "Fatigue                   0.065430 -0.094769                  0.079791   \n",
       "Abnormal_blood_tests      0.018668 -0.107290                  0.002421   \n",
       "time                     -0.224068 -0.141414                 -0.009346   \n",
       "Leishmania_predict        0.253729  0.066270                  0.062728   \n",
       "\n",
       "                          weight_loss  ejection_fraction  Liver_swelling  \\\n",
       "age                         -0.101012           0.060098        0.093289   \n",
       "fever                       -0.012729           0.031557        0.038182   \n",
       "creatinine_phosphokinase    -0.009639          -0.044080       -0.070590   \n",
       "weight_loss                  1.000000          -0.004850       -0.012732   \n",
       "ejection_fraction           -0.004850           1.000000        0.024445   \n",
       "Liver_swelling              -0.012732           0.024445        1.000000   \n",
       "platelets                    0.092193           0.072177        0.049963   \n",
       "serum_creatinine            -0.046975          -0.011302       -0.004935   \n",
       "serum_sodium                -0.089551           0.175902        0.037109   \n",
       "Fatigue                     -0.157730          -0.148386       -0.104615   \n",
       "Abnormal_blood_tests        -0.147173          -0.067315       -0.055711   \n",
       "time                         0.033726           0.041729       -0.196439   \n",
       "Leishmania_predict          -0.001943          -0.268603        0.079351   \n",
       "\n",
       "                          platelets  serum_creatinine  serum_sodium   Fatigue  \\\n",
       "age                       -0.052354          0.159187     -0.045966  0.065430   \n",
       "fever                     -0.043786          0.052174      0.041882 -0.094769   \n",
       "creatinine_phosphokinase   0.024463         -0.016408      0.059550  0.079791   \n",
       "weight_loss                0.092193         -0.046975     -0.089551 -0.157730   \n",
       "ejection_fraction          0.072177         -0.011302      0.175902 -0.148386   \n",
       "Liver_swelling             0.049963         -0.004935      0.037109 -0.104615   \n",
       "platelets                  1.000000         -0.041198      0.062125 -0.125120   \n",
       "serum_creatinine          -0.041198          1.000000     -0.189095  0.006970   \n",
       "serum_sodium               0.062125         -0.189095      1.000000 -0.027566   \n",
       "Fatigue                   -0.125120          0.006970     -0.027566  1.000000   \n",
       "Abnormal_blood_tests       0.028234         -0.027414      0.004813  0.445892   \n",
       "time                       0.010514         -0.149315      0.087640 -0.015608   \n",
       "Leishmania_predict        -0.049139          0.294278     -0.195204 -0.004316   \n",
       "\n",
       "                          Abnormal_blood_tests      time  Leishmania_predict  \n",
       "age                                   0.018668 -0.224068            0.253729  \n",
       "fever                                -0.107290 -0.141414            0.066270  \n",
       "creatinine_phosphokinase              0.002421 -0.009346            0.062728  \n",
       "weight_loss                          -0.147173  0.033726           -0.001943  \n",
       "ejection_fraction                    -0.067315  0.041729           -0.268603  \n",
       "Liver_swelling                       -0.055711 -0.196439            0.079351  \n",
       "platelets                             0.028234  0.010514           -0.049139  \n",
       "serum_creatinine                     -0.027414 -0.149315            0.294278  \n",
       "serum_sodium                          0.004813  0.087640           -0.195204  \n",
       "Fatigue                               0.445892 -0.015608           -0.004316  \n",
       "Abnormal_blood_tests                  1.000000 -0.022839           -0.012623  \n",
       "time                                 -0.022839  1.000000           -0.526964  \n",
       "Leishmania_predict                   -0.012623 -0.526964            1.000000  "
      ]
     },
     "execution_count": 29,
     "metadata": {},
     "output_type": "execute_result"
    }
   ],
   "source": [
    "df.corr()"
   ]
  },
  {
   "cell_type": "code",
   "execution_count": 30,
   "id": "8ddc4d7c",
   "metadata": {},
   "outputs": [
    {
     "data": {
      "text/html": [
       "<div>\n",
       "<style scoped>\n",
       "    .dataframe tbody tr th:only-of-type {\n",
       "        vertical-align: middle;\n",
       "    }\n",
       "\n",
       "    .dataframe tbody tr th {\n",
       "        vertical-align: top;\n",
       "    }\n",
       "\n",
       "    .dataframe thead th {\n",
       "        text-align: right;\n",
       "    }\n",
       "</style>\n",
       "<table border=\"1\" class=\"dataframe\">\n",
       "  <thead>\n",
       "    <tr style=\"text-align: right;\">\n",
       "      <th></th>\n",
       "      <th>age</th>\n",
       "      <th>fever</th>\n",
       "      <th>creatinine_phosphokinase</th>\n",
       "      <th>weight_loss</th>\n",
       "      <th>ejection_fraction</th>\n",
       "      <th>Liver_swelling</th>\n",
       "      <th>platelets</th>\n",
       "      <th>serum_creatinine</th>\n",
       "      <th>serum_sodium</th>\n",
       "      <th>Fatigue</th>\n",
       "      <th>Abnormal_blood_tests</th>\n",
       "      <th>time</th>\n",
       "    </tr>\n",
       "  </thead>\n",
       "  <tbody>\n",
       "    <tr>\n",
       "      <th>0</th>\n",
       "      <td>75.0</td>\n",
       "      <td>0</td>\n",
       "      <td>582</td>\n",
       "      <td>0</td>\n",
       "      <td>20</td>\n",
       "      <td>1</td>\n",
       "      <td>265000.00</td>\n",
       "      <td>1.9</td>\n",
       "      <td>130</td>\n",
       "      <td>1</td>\n",
       "      <td>0</td>\n",
       "      <td>4</td>\n",
       "    </tr>\n",
       "    <tr>\n",
       "      <th>1</th>\n",
       "      <td>55.0</td>\n",
       "      <td>0</td>\n",
       "      <td>7861</td>\n",
       "      <td>0</td>\n",
       "      <td>38</td>\n",
       "      <td>0</td>\n",
       "      <td>263358.03</td>\n",
       "      <td>1.1</td>\n",
       "      <td>136</td>\n",
       "      <td>1</td>\n",
       "      <td>0</td>\n",
       "      <td>6</td>\n",
       "    </tr>\n",
       "    <tr>\n",
       "      <th>2</th>\n",
       "      <td>65.0</td>\n",
       "      <td>0</td>\n",
       "      <td>146</td>\n",
       "      <td>0</td>\n",
       "      <td>20</td>\n",
       "      <td>0</td>\n",
       "      <td>162000.00</td>\n",
       "      <td>1.3</td>\n",
       "      <td>129</td>\n",
       "      <td>1</td>\n",
       "      <td>1</td>\n",
       "      <td>7</td>\n",
       "    </tr>\n",
       "    <tr>\n",
       "      <th>3</th>\n",
       "      <td>50.0</td>\n",
       "      <td>1</td>\n",
       "      <td>111</td>\n",
       "      <td>0</td>\n",
       "      <td>20</td>\n",
       "      <td>0</td>\n",
       "      <td>210000.00</td>\n",
       "      <td>1.9</td>\n",
       "      <td>137</td>\n",
       "      <td>1</td>\n",
       "      <td>0</td>\n",
       "      <td>7</td>\n",
       "    </tr>\n",
       "    <tr>\n",
       "      <th>4</th>\n",
       "      <td>65.0</td>\n",
       "      <td>1</td>\n",
       "      <td>160</td>\n",
       "      <td>1</td>\n",
       "      <td>20</td>\n",
       "      <td>0</td>\n",
       "      <td>327000.00</td>\n",
       "      <td>2.7</td>\n",
       "      <td>116</td>\n",
       "      <td>0</td>\n",
       "      <td>0</td>\n",
       "      <td>8</td>\n",
       "    </tr>\n",
       "    <tr>\n",
       "      <th>...</th>\n",
       "      <td>...</td>\n",
       "      <td>...</td>\n",
       "      <td>...</td>\n",
       "      <td>...</td>\n",
       "      <td>...</td>\n",
       "      <td>...</td>\n",
       "      <td>...</td>\n",
       "      <td>...</td>\n",
       "      <td>...</td>\n",
       "      <td>...</td>\n",
       "      <td>...</td>\n",
       "      <td>...</td>\n",
       "    </tr>\n",
       "    <tr>\n",
       "      <th>294</th>\n",
       "      <td>62.0</td>\n",
       "      <td>0</td>\n",
       "      <td>61</td>\n",
       "      <td>1</td>\n",
       "      <td>38</td>\n",
       "      <td>1</td>\n",
       "      <td>155000.00</td>\n",
       "      <td>1.1</td>\n",
       "      <td>143</td>\n",
       "      <td>1</td>\n",
       "      <td>1</td>\n",
       "      <td>270</td>\n",
       "    </tr>\n",
       "    <tr>\n",
       "      <th>295</th>\n",
       "      <td>55.0</td>\n",
       "      <td>0</td>\n",
       "      <td>1820</td>\n",
       "      <td>0</td>\n",
       "      <td>38</td>\n",
       "      <td>0</td>\n",
       "      <td>270000.00</td>\n",
       "      <td>1.2</td>\n",
       "      <td>139</td>\n",
       "      <td>0</td>\n",
       "      <td>0</td>\n",
       "      <td>271</td>\n",
       "    </tr>\n",
       "    <tr>\n",
       "      <th>296</th>\n",
       "      <td>45.0</td>\n",
       "      <td>0</td>\n",
       "      <td>2060</td>\n",
       "      <td>1</td>\n",
       "      <td>60</td>\n",
       "      <td>0</td>\n",
       "      <td>742000.00</td>\n",
       "      <td>0.8</td>\n",
       "      <td>138</td>\n",
       "      <td>0</td>\n",
       "      <td>0</td>\n",
       "      <td>278</td>\n",
       "    </tr>\n",
       "    <tr>\n",
       "      <th>297</th>\n",
       "      <td>45.0</td>\n",
       "      <td>0</td>\n",
       "      <td>2413</td>\n",
       "      <td>0</td>\n",
       "      <td>38</td>\n",
       "      <td>0</td>\n",
       "      <td>140000.00</td>\n",
       "      <td>1.4</td>\n",
       "      <td>140</td>\n",
       "      <td>1</td>\n",
       "      <td>1</td>\n",
       "      <td>280</td>\n",
       "    </tr>\n",
       "    <tr>\n",
       "      <th>298</th>\n",
       "      <td>50.0</td>\n",
       "      <td>0</td>\n",
       "      <td>196</td>\n",
       "      <td>0</td>\n",
       "      <td>45</td>\n",
       "      <td>0</td>\n",
       "      <td>395000.00</td>\n",
       "      <td>1.6</td>\n",
       "      <td>136</td>\n",
       "      <td>1</td>\n",
       "      <td>1</td>\n",
       "      <td>285</td>\n",
       "    </tr>\n",
       "  </tbody>\n",
       "</table>\n",
       "<p>299 rows × 12 columns</p>\n",
       "</div>"
      ],
      "text/plain": [
       "      age  fever  creatinine_phosphokinase  weight_loss  ejection_fraction  \\\n",
       "0    75.0      0                       582            0                 20   \n",
       "1    55.0      0                      7861            0                 38   \n",
       "2    65.0      0                       146            0                 20   \n",
       "3    50.0      1                       111            0                 20   \n",
       "4    65.0      1                       160            1                 20   \n",
       "..    ...    ...                       ...          ...                ...   \n",
       "294  62.0      0                        61            1                 38   \n",
       "295  55.0      0                      1820            0                 38   \n",
       "296  45.0      0                      2060            1                 60   \n",
       "297  45.0      0                      2413            0                 38   \n",
       "298  50.0      0                       196            0                 45   \n",
       "\n",
       "     Liver_swelling  platelets  serum_creatinine  serum_sodium  Fatigue  \\\n",
       "0                 1  265000.00               1.9           130        1   \n",
       "1                 0  263358.03               1.1           136        1   \n",
       "2                 0  162000.00               1.3           129        1   \n",
       "3                 0  210000.00               1.9           137        1   \n",
       "4                 0  327000.00               2.7           116        0   \n",
       "..              ...        ...               ...           ...      ...   \n",
       "294               1  155000.00               1.1           143        1   \n",
       "295               0  270000.00               1.2           139        0   \n",
       "296               0  742000.00               0.8           138        0   \n",
       "297               0  140000.00               1.4           140        1   \n",
       "298               0  395000.00               1.6           136        1   \n",
       "\n",
       "     Abnormal_blood_tests  time  \n",
       "0                       0     4  \n",
       "1                       0     6  \n",
       "2                       1     7  \n",
       "3                       0     7  \n",
       "4                       0     8  \n",
       "..                    ...   ...  \n",
       "294                     1   270  \n",
       "295                     0   271  \n",
       "296                     0   278  \n",
       "297                     1   280  \n",
       "298                     1   285  \n",
       "\n",
       "[299 rows x 12 columns]"
      ]
     },
     "execution_count": 30,
     "metadata": {},
     "output_type": "execute_result"
    }
   ],
   "source": [
    "x=df.drop(['Leishmania_predict'], axis=1)\n",
    "x"
   ]
  },
  {
   "cell_type": "code",
   "execution_count": 31,
   "id": "f00136b1",
   "metadata": {},
   "outputs": [
    {
     "data": {
      "text/plain": [
       "0      1\n",
       "1      1\n",
       "2      1\n",
       "3      1\n",
       "4      1\n",
       "      ..\n",
       "294    0\n",
       "295    0\n",
       "296    0\n",
       "297    0\n",
       "298    0\n",
       "Name: Leishmania_predict, Length: 299, dtype: int64"
      ]
     },
     "execution_count": 31,
     "metadata": {},
     "output_type": "execute_result"
    }
   ],
   "source": [
    "y=df.Leishmania_predict\n",
    "y"
   ]
  },
  {
   "cell_type": "code",
   "execution_count": null,
   "id": "bb086cb3",
   "metadata": {},
   "outputs": [],
   "source": []
  },
  {
   "cell_type": "code",
   "execution_count": 32,
   "id": "f91eb54a",
   "metadata": {},
   "outputs": [
    {
     "name": "stdout",
     "output_type": "stream",
     "text": [
      "Confusion Matrix\n",
      "[[44  2]\n",
      " [ 7  7]]\n"
     ]
    }
   ],
   "source": [
    "x_train,x_test,y_train,y_test = train_test_split(x,y,test_size = 0.2,random_state = 1)\n",
    "st_x = StandardScaler()\n",
    "x_train2 = st_x.fit_transform(x_train)\n",
    "x_test2 = st_x.fit_transform(x_test)\n",
    "knn = KNeighborsClassifier(n_neighbors = 5,metric = 'euclidean')\n",
    "knn.fit(x_train2,y_train)\n",
    "y_predict = knn.predict(x_test2)\n",
    "print(\"Confusion Matrix\")\n",
    "print(confusion_matrix(y_test,y_predict))\n",
    "k11 = accuracy_score(y_test,y_predict)*100\n",
    "k22 = recall_score(y_test,y_predict,average = 'macro')*100\n",
    "k33 = precision_score(y_test,y_predict,average='macro')*100\n",
    "k44 = f1_score(y_test,y_predict,average='macro')*100\n"
   ]
  },
  {
   "cell_type": "code",
   "execution_count": 33,
   "id": "67b357d1",
   "metadata": {},
   "outputs": [
    {
     "name": "stdout",
     "output_type": "stream",
     "text": [
      "[0 0 0 0 0 0 0 0 1 0 0 0 0 0 0 0 1 0 0 0 0 1 0 0 0 0 0 0 0 0 0 0 0 0 1 0 0\n",
      " 0 0 0 1 0 0 0 0 1 0 0 1 0 0 0 0 1 1 0 0 0 0 0]\n"
     ]
    }
   ],
   "source": [
    "print(y_predict)"
   ]
  },
  {
   "cell_type": "code",
   "execution_count": 34,
   "id": "b80d2599",
   "metadata": {},
   "outputs": [
    {
     "data": {
      "image/png": "[encoded data removed]",
      "text/plain": [
       "<Figure size 432x288 with 2 Axes>"
      ]
     },
     "metadata": {
      "needs_background": "light"
     },
     "output_type": "display_data"
    }
   ],
   "source": [
    "cm_display = metrics.ConfusionMatrixDisplay(confusion_matrix = confusion_matrix(y_test,y_predict))\n",
    "cm_display.plot()\n",
    "plt.show()"
   ]
  },
  {
   "cell_type": "code",
   "execution_count": 35,
   "id": "a2b9be63",
   "metadata": {},
   "outputs": [
    {
     "name": "stdout",
     "output_type": "stream",
     "text": [
      "              precision    recall  f1-score   support\n",
      "\n",
      "           0       0.86      0.96      0.91        46\n",
      "           1       0.78      0.50      0.61        14\n",
      "\n",
      "    accuracy                           0.85        60\n",
      "   macro avg       0.82      0.73      0.76        60\n",
      "weighted avg       0.84      0.85      0.84        60\n",
      "\n"
     ]
    }
   ],
   "source": [
    "print(classification_report(y_test, y_predict))"
   ]
  },
  {
   "cell_type": "code",
   "execution_count": 36,
   "id": "d9f7a0e1",
   "metadata": {},
   "outputs": [
    {
     "name": "stdout",
     "output_type": "stream",
     "text": [
      "Accuracy : 85.0\n",
      "Recall: 72.82608695652173\n",
      "Precision_Score: 82.02614379084967\n",
      "F1_Score: 75.79560735096369\n"
     ]
    }
   ],
   "source": [
    "print(\"Accuracy :\",k11)\n",
    "print(\"Recall:\",k22)\n",
    "print(\"Precision_Score:\",k33)\n",
    "print(\"F1_Score:\",k44)"
   ]
  },
  {
   "cell_type": "code",
   "execution_count": 37,
   "id": "aa0d4fbf",
   "metadata": {},
   "outputs": [
    {
     "name": "stdout",
     "output_type": "stream",
     "text": [
      "[0]\n"
     ]
    }
   ],
   "source": [
    "y = knn.predict([[75,0,582,0,20,1,265000.00,1.9,130,1,0,4]])\n",
    "print(y)"
   ]
  },
  {
   "cell_type": "code",
   "execution_count": 38,
   "id": "2ea8cf1e",
   "metadata": {},
   "outputs": [
    {
     "data": {
      "text/plain": [
       "[<matplotlib.lines.Line2D at 0x1b53a50d040>]"
      ]
     },
     "execution_count": 38,
     "metadata": {},
     "output_type": "execute_result"
    },
    {
     "data": {
      "image/png": "[encoded data removed]",
      "text/plain": [
       "<Figure size 432x288 with 1 Axes>"
      ]
     },
     "metadata": {
      "needs_background": "light"
     },
     "output_type": "display_data"
    }
   ],
   "source": [
    "a = []\n",
    "p = []\n",
    "r = []\n",
    "f = []\n",
    "xc =[1,2,3,4,5,6,7,8,9,10]\n",
    "for i in range(1,11):\n",
    "    st_x = StandardScaler()\n",
    "    x_train2 = st_x.fit_transform(x_train)\n",
    "    x_test2 = st_x.fit_transform(x_test)\n",
    "    knn = KNeighborsClassifier(n_neighbors = i,metric = 'euclidean')\n",
    "    knn.fit(x_train2,y_train)\n",
    "    y_predict = knn.predict(x_test2)\n",
    "    k1 = accuracy_score(y_test,y_predict)*100\n",
    "    k2 = recall_score(y_test,y_predict,average = 'macro')*100\n",
    "    k3 = precision_score(y_test,y_predict,average='macro')*100\n",
    "    k4 = f1_score(y_test,y_predict,average='macro')*100\n",
    "    a.append(k1)\n",
    "    p.append(k3)\n",
    "    r.append(k2)\n",
    "    f.append(k4)\n",
    "plt.plot(xc,a,color='red')\n",
    "plt.plot(xc,p,color='blue')\n",
    "plt.plot(xc,r,color='green')\n",
    "plt.plot(xc,f,color='orange')"
   ]
  },
  {
   "cell_type": "code",
   "execution_count": 39,
   "id": "f0848e0b",
   "metadata": {},
   "outputs": [
    {
     "name": "stdout",
     "output_type": "stream",
     "text": [
      "Confusion Matrix\n",
      "[[40  6]\n",
      " [ 2 12]]\n"
     ]
    }
   ],
   "source": [
    "x_train3 = st_x.fit_transform(x_train)\n",
    "x_test3 = st_x.fit_transform(x_test)\n",
    "svn = SVC(kernel = 'linear')\n",
    "svn.fit(x_train3,y_train)\n",
    "y_predict1 = svn.predict(x_test3)\n",
    "print(\"Confusion Matrix\")\n",
    "print(confusion_matrix(y_test,y_predict1))\n",
    "s11 = accuracy_score(y_test,y_predict1)*100\n",
    "s22 = recall_score(y_test,y_predict1,average = 'macro')*100\n",
    "s33 = precision_score(y_test,y_predict1,average = 'macro')*100\n",
    "s44 = f1_score(y_test,y_predict1,average = 'macro')*100"
   ]
  },
  {
   "cell_type": "code",
   "execution_count": 40,
   "id": "c23e254a",
   "metadata": {},
   "outputs": [
    {
     "data": {
      "image/png": "[encoded data removed]",
      "text/plain": [
       "<Figure size 432x288 with 2 Axes>"
      ]
     },
     "metadata": {
      "needs_background": "light"
     },
     "output_type": "display_data"
    }
   ],
   "source": [
    "cm_display = metrics.ConfusionMatrixDisplay(confusion_matrix = confusion_matrix(y_test,y_predict1))\n",
    "cm_display.plot()\n",
    "plt.show()"
   ]
  },
  {
   "cell_type": "code",
   "execution_count": 41,
   "id": "25fc3a48",
   "metadata": {},
   "outputs": [
    {
     "name": "stdout",
     "output_type": "stream",
     "text": [
      "              precision    recall  f1-score   support\n",
      "\n",
      "           0       0.95      0.87      0.91        46\n",
      "           1       0.67      0.86      0.75        14\n",
      "\n",
      "    accuracy                           0.87        60\n",
      "   macro avg       0.81      0.86      0.83        60\n",
      "weighted avg       0.89      0.87      0.87        60\n",
      "\n"
     ]
    }
   ],
   "source": [
    "print(classification_report(y_test, y_predict1))"
   ]
  },
  {
   "cell_type": "code",
   "execution_count": 42,
   "id": "7980e230",
   "metadata": {},
   "outputs": [
    {
     "name": "stdout",
     "output_type": "stream",
     "text": [
      "Accuracy : 86.66666666666667\n",
      "Recall: 86.33540372670807\n",
      "Precision_Score: 80.95238095238095\n",
      "F1_Score: 82.95454545454545\n"
     ]
    }
   ],
   "source": [
    "print(\"Accuracy :\",s11)\n",
    "print(\"Recall:\",s22)\n",
    "print(\"Precision_Score:\",s33)\n",
    "print(\"F1_Score:\",s44)\n"
   ]
  },
  {
   "cell_type": "code",
   "execution_count": 43,
   "id": "e613f04a",
   "metadata": {},
   "outputs": [
    {
     "data": {
      "text/plain": [
       "[<matplotlib.lines.Line2D at 0x1b538eab9a0>]"
      ]
     },
     "execution_count": 43,
     "metadata": {},
     "output_type": "execute_result"
    },
    {
     "data": {
      "image/png": "[encoded data removed]",
      "text/plain": [
       "<Figure size 432x288 with 1 Axes>"
      ]
     },
     "metadata": {
      "needs_background": "light"
     },
     "output_type": "display_data"
    }
   ],
   "source": [
    "x=df.drop(['Leishmania_predict'], axis=1)\n",
    "y=df.Leishmania_predict\n",
    "xb = [0.1,0.2,0,3,0.4,0.5,0.6,0.7,0.8]\n",
    "a1=[]\n",
    "r1=[]\n",
    "p1=[]\n",
    "for i in range(1,10):\n",
    "    x_train,x_test,y_train,y_test = train_test_split(x,y,test_size = i/10,random_state = 1)\n",
    "    st_x = StandardScaler()\n",
    "    x_train3 = st_x.fit_transform(x_train)\n",
    "    x_test3 = st_x.fit_transform(x_test)\n",
    "    svn = SVC(kernel = 'linear',random_state = 0)\n",
    "    svn.fit(x_train3,y_train)\n",
    "    y_predict1 = svn.predict(x_test3)\n",
    "    s1 = accuracy_score(y_test,y_predict1)*100\n",
    "    s2 = recall_score(y_test,y_predict1)*100\n",
    "    s3 = precision_score(y_test,y_predict1)*100\n",
    "    a1.append(s1)\n",
    "    p1.append(s3)\n",
    "    r1.append(s2)\n",
    "plt.plot(xb,a1,color='red')\n",
    "plt.plot(xb,p1,color='blue')\n",
    "plt.plot(xb,r1,color='green')\n"
   ]
  },
  {
   "cell_type": "code",
   "execution_count": 44,
   "id": "7c700b30",
   "metadata": {},
   "outputs": [
    {
     "data": {
      "image/png": "[encoded data removed]",
      "text/plain": [
       "<Figure size 432x288 with 1 Axes>"
      ]
     },
     "metadata": {
      "needs_background": "light"
     },
     "output_type": "display_data"
    },
    {
     "data": {
      "image/png": "[encoded data removed]",
      "text/plain": [
       "<Figure size 432x288 with 1 Axes>"
      ]
     },
     "metadata": {
      "needs_background": "light"
     },
     "output_type": "display_data"
    },
    {
     "data": {
      "image/png": "[encoded data removed]",
      "text/plain": [
       "<Figure size 432x288 with 1 Axes>"
      ]
     },
     "metadata": {
      "needs_background": "light"
     },
     "output_type": "display_data"
    }
   ],
   "source": [
    "Class = [\"KNN\",\"SVN\"]\n",
    "Acc = [k11,s11]\n",
    "plt.bar(Class,Acc,color='orange')\n",
    "plt.title(\"ACCURACY\")\n",
    "plt.xlabel(\"Algorithm\")\n",
    "plt.ylabel(\"Accuracy\")\n",
    "plt.show()\n",
    "\n",
    "\n",
    "Class1 = [\"KNN\",\"SVN\"]\n",
    "pre = [k33,s33]\n",
    "plt.bar(Class1,pre,color='blue')\n",
    "plt.title(\"PRECISION\")\n",
    "plt.xlabel(\"Algorithm\")\n",
    "plt.ylabel(\"Precision\")\n",
    "plt.show()\n",
    "\n",
    "Class2 = [\"KNN\",\"SVN\"]\n",
    "re = [k22,s22]\n",
    "plt.bar(Class2,re,color='red')\n",
    "plt.title(\"RECALL\")\n",
    "plt.xlabel(\"Algorithm\")\n",
    "plt.ylabel(\"Recall\")\n",
    "plt.show()"
   ]
  },
  {
   "cell_type": "code",
   "execution_count": null,
   "id": "b9f2a326",
   "metadata": {},
   "outputs": [],
   "source": []
  },
  {
   "cell_type": "code",
   "execution_count": null,
   "id": "48db47ff",
   "metadata": {},
   "outputs": [],
   "source": []
  },
  {
   "cell_type": "code",
   "execution_count": null,
   "id": "813ef444",
   "metadata": {},
   "outputs": [],
   "source": []
  }
 ],
 "metadata": {
  "kernelspec": {
   "display_name": "Python 3 (ipykernel)",
   "language": "python",
   "name": "python3"
  },
  "language_info": {
   "codemirror_mode": {
    "name": "ipython",
    "version": 3
   },
   "file_extension": ".py",
   "mimetype": "text/x-python",
   "name": "python",
   "nbconvert_exporter": "python",
   "pygments_lexer": "ipython3",
   "version": "3.9.12"
  }
 },
 "nbformat": 4,
 "nbformat_minor": 5
}
