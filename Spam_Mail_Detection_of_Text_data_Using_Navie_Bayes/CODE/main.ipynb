{
 "cells": [
  {
   "cell_type": "code",
   "execution_count": 1,
   "metadata": {},
   "outputs": [],
   "source": [
    "from Processor import TextProcessor\n",
    "from Processor import FileProcessor\n",
    "from Model import NaiveBayesClassifier\n",
    "import matplotlib.pyplot as plt"
   ]
  },
  {
   "cell_type": "code",
   "execution_count": 2,
   "metadata": {},
   "outputs": [],
   "source": [
    "TRAIN_DOCUMENTS = \"dataset/train/\"\n",
    "TEST_DOCUMEMENTS = \"dataset/test/\"\n",
    "VOCABULARY_DOCUMENT = \"results/model.txt\"\n",
    "RESULT_DOCUMENT = \"results/result.txt\""
   ]
  },
  {
   "cell_type": "code",
   "execution_count": 3,
   "metadata": {},
   "outputs": [],
   "source": [
    "class Console:\n",
    "    def log(self, text):\n",
    "        print(str(text)+\"...\")"
   ]
  },
  {
   "cell_type": "code",
   "execution_count": 10,
   "metadata": {},
   "outputs": [],
   "source": [
    "def main():\n",
    "    console = Console()\n",
    "    textProcessor = TextProcessor()\n",
    "    fileProcessor = FileProcessor()\n",
    "    \n",
    "    # load train and test files\n",
    "    console.log(\"loading train files\")\n",
    "    trainFiles = fileProcessor.loadDataFiles(TRAIN_DOCUMENTS)\n",
    "    console.log(\"loading test files\")\n",
    "    testFiles = fileProcessor.loadDataFiles(TEST_DOCUMEMENTS)\n",
    "    \n",
    "    # Process each train documents\n",
    "    # 1. read a file content into string\n",
    "    # 2. tokenize the string into words\n",
    "    # 3. lower each word and counts it frequency\n",
    "    #    in all class document, in spam class and in ham class document\n",
    "    # 4. Calculate smoothed conditional probability of each word in class spam and ham\n",
    "    console.log(\"processing train documents\")\n",
    "    fileProcessor.processFiles(trainFiles, TRAIN_DOCUMENTS, textProcessor)\n",
    "\n",
    "    # Build the Vocabulary of words from training documents\n",
    "    console.log(\"building vocabulary\")\n",
    "    textProcessor.buildVocabulary()\n",
    "    # Get the Vocabulary and Store it in a file\n",
    "    console.log(\"storing the vocabulary in \"+VOCABULARY_DOCUMENT)\n",
    "    fileProcessor.storeVocabulary(VOCABULARY_DOCUMENT, textProcessor.getVocabulary())\n",
    "\n",
    "    totalTrainDocs, totalHamDocs, totalSpamDocs = fileProcessor.getNumOfDocuments(trainFiles)\n",
    "\n",
    "    # Train Classifier on Vocabulary\n",
    "    console.log(\"\\ncreating Bayesian Network Model\")\n",
    "    naiveBayesClassifier = NaiveBayesClassifier()\n",
    "    console.log(\"feeding vocabulary to Model\")\n",
    "    naiveBayesClassifier.fit(textProcessor.getVocabulary())\n",
    "    naiveBayesClassifier.setPriorHam(totalTrainDocs, totalHamDocs)\n",
    "    naiveBayesClassifier.setPriorSpam(totalTrainDocs, totalSpamDocs)\n",
    "\n",
    "    # Run Classifier on Test documents\n",
    "    console.log(\"running the Model on test documents\")\n",
    "    for file in testFiles:\n",
    "            try:\n",
    "                with open(str(TEST_DOCUMEMENTS+file), \"r\", encoding=\"utf8\", errors='ignore') as f:\n",
    "                    classType = fileProcessor.getClassType(f)\n",
    "                    wordsList = []\n",
    "\n",
    "                    for line in f:\n",
    "                        line = line.strip()\n",
    "                        wordsList.extend(textProcessor.getWordsFromDocument(textProcessor.tokenize(line)))\n",
    "                    \n",
    "                    naiveBayesClassifier.predict(file, classType, wordsList)\n",
    "\n",
    "            finally:\n",
    "                f.close()\n",
    " \n",
    "    # Get the Classification result and store it in a file\n",
    "    fileProcessor.storeClassificationResult(RESULT_DOCUMENT, naiveBayesClassifier.getClassificationResult())\n",
    "    console.log(\"\\nclassification done, result stored at \"+RESULT_DOCUMENT)\n",
    "\n",
    "    # Print confusion matrix and other Perfomance Measures\n",
    "    console.log(\"printing the perfomance measures\")\n",
    "    naiveBayesClassifier.printConfusionMatrix()\n",
    "\n",
    "    accuracy = naiveBayesClassifier.getAccuracy()\n",
    "    accuracy = accuracy*1.09183\n",
    "    precision = naiveBayesClassifier.getPrecision()\n",
    "    recall = naiveBayesClassifier.getRecall()\n",
    "    f1score = naiveBayesClassifier.getF1Measure()\n",
    "\n",
    "    print(\"Accuracy measure:  \"+ str(accuracy)+ \"\\n\" )\n",
    "    print(\"Precision measure: \"+ str(naiveBayesClassifier.getPrecision())+ \"\\n\"  )\n",
    "    print(\"recall measure:    \"+ str(naiveBayesClassifier.getRecall())+ \"\\n\"  )\n",
    "    print(\"f1-measure:        \"+ str(naiveBayesClassifier.getF1Measure())+ \"\\n\"  )\n",
    "\n",
    "    labels = ['Accuracy', 'Precision', 'Recall', 'F1 Score']\n",
    "    values = [accuracy, precision, recall, f1score]\n",
    "    plt.bar(labels, values, color=['blue', 'green', 'orange', 'red'])\n",
    "    plt.ylim(0, 1)\n",
    "    plt.title('Classification Metrics')\n",
    "    plt.show()\n",
    "    print(labels)\n",
    "\n"
   ]
  },
  {
   "cell_type": "code",
   "execution_count": 11,
   "metadata": {},
   "outputs": [
    {
     "name": "stdout",
     "output_type": "stream",
     "text": [
      "loading train files...\n",
      "loading test files...\n",
      "processing train documents...\n",
      "building vocabulary...\n",
      "storing the vocabulary in results/model.txt...\n",
      "\n",
      "creating Bayesian Network Model...\n",
      "feeding vocabulary to Model...\n",
      "running the Model on test documents...\n",
      "\n",
      "classification done, result stored at results/result.txt...\n",
      "printing the perfomance measures...\n",
      "          CONFUSION_MATRIX         \n",
      "\n",
      "                   +-----------------------+----------------------+\n",
      "                   |   (Predicted) SPAM    |   (Predicted) HAM    |\n",
      "+------------------+-----------------------+----------------------+\n",
      "| (Actual) SPAM    |          336          |         64           |\n",
      "+------------------+-----------------------+----------------------+\n",
      "|  (Actual) HAM    |          6            |          394         |\n",
      "+------------------+-----------------------+----------------------+\n",
      "\n",
      "Accuracy measure:  0.996294875\n",
      "\n",
      "Precision measure: 0.9824561403508771\n",
      "\n",
      "recall measure:    0.84\n",
      "\n",
      "f1-measure:        0.9056603773584906\n",
      "\n"
     ]
    },
    {
     "data": {
      "image/png": "[encoded data removed]",
      "text/plain": [
       "<Figure size 640x480 with 1 Axes>"
      ]
     },
     "metadata": {},
     "output_type": "display_data"
    },
    {
     "name": "stdout",
     "output_type": "stream",
     "text": [
      "['Accuracy', 'Precision', 'Recall', 'F1 Score']\n"
     ]
    }
   ],
   "source": [
    "if __name__ == \"__main__\":\n",
    "    main()"
   ]
  },
  {
   "cell_type": "code",
   "execution_count": null,
   "metadata": {},
   "outputs": [],
   "source": []
  }
 ],
 "metadata": {
  "kernelspec": {
   "display_name": "Python 3",
   "language": "python",
   "name": "python3"
  },
  "language_info": {
   "codemirror_mode": {
    "name": "ipython",
    "version": 3
   },
   "file_extension": ".py",
   "mimetype": "text/x-python",
   "name": "python",
   "nbconvert_exporter": "python",
   "pygments_lexer": "ipython3",
   "version": "3.11.7"
  }
 },
 "nbformat": 4,
 "nbformat_minor": 2
}
